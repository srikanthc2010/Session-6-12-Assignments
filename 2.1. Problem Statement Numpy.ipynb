{
 "cells": [
  {
   "cell_type": "markdown",
   "metadata": {},
   "source": [
    "## Problem Statement 1:"
   ]
  },
  {
   "cell_type": "markdown",
   "metadata": {},
   "source": [
    "Write a function so that the columns of the output matrix are powers of the input\n",
    "vector.\n",
    "The order of the powers is determined by the increasing boolean argument. Specifically, when\n",
    "increasing is False, the i-th output column is the input vector raised element-wise to the power\n",
    "of N - i - 1.\n",
    "\n",
    "HINT: Such a matrix with a geometric progression in each row is named for Alexandre-\n",
    "Theophile Vandermonde."
   ]
  },
  {
   "cell_type": "code",
   "execution_count": 2,
   "metadata": {},
   "outputs": [
    {
     "name": "stdout",
     "output_type": "stream",
     "text": [
      "\n",
      "\n",
      "Printing in increasing order:\n",
      "[[  1   1   1   1   1]\n",
      " [  1   2   4   8  16]\n",
      " [  1   3   9  27  81]\n",
      " [  1   4  16  64 256]\n",
      " [  1   5  25 125 625]]\n",
      "\n",
      "\n",
      "Printing in decreasing order:\n",
      "[[  1   1   1   1   1]\n",
      " [ 16   8   4   2   1]\n",
      " [ 81  27   9   3   1]\n",
      " [256  64  16   4   1]\n",
      " [625 125  25   5   1]]\n"
     ]
    }
   ],
   "source": [
    "#import numpy module\n",
    "import numpy as np\n",
    "\n",
    "def generate_vander_matrix(vector, no_of_columns, increasing):\n",
    "    #define numpy array as input\n",
    "    x = np.array(vector)\n",
    "    \n",
    "    start, stop, step = 0, 0, 1\n",
    "    if not increasing:\n",
    "        stop = no_of_columns\n",
    "    else:\n",
    "        start, stop, step = no_of_columns - 1, -1, -1\n",
    "    print(\"\\n\")\n",
    "    print(\"Printing in {a} order:\".format(a=\"increasing\" if increasing else \"decreasing\"))\n",
    "    \n",
    "    print(np.array([x**(no_of_columns - 1 - i) for i in range(start, stop, step)]).T)\n",
    "    \n",
    "    \n",
    "\n",
    "generate_vander_matrix([1,2,3,4,5], 5, True)\n",
    "generate_vander_matrix([1,2,3,4,5], 5, False)\n",
    "\n"
   ]
  },
  {
   "cell_type": "code",
   "execution_count": 3,
   "metadata": {},
   "outputs": [
    {
     "name": "stdout",
     "output_type": "stream",
     "text": [
      "Increasing order\n",
      "[[  1   1   1   1   1]\n",
      " [  1   2   4   8  16]\n",
      " [  1   3   9  27  81]\n",
      " [  1   4  16  64 256]\n",
      " [  1   5  25 125 625]]\n",
      "----------------------------------------\n",
      "Decreasing order\n",
      "[[  1   1   1   1   1]\n",
      " [ 16   8   4   2   1]\n",
      " [ 81  27   9   3   1]\n",
      " [256  64  16   4   1]\n",
      " [625 125  25   5   1]]\n"
     ]
    }
   ],
   "source": [
    "#other way of doing usinng list comprehention.\n",
    "def Vander_matrx(vectorArr, noOfColumns,increasing = True):\n",
    "    x = np.array(vectorArr)   \n",
    "    N = noOfColumns\n",
    "    \n",
    "    if increasing:\n",
    "        print(np.array([x**(N-i-1) for i in range(N-1,-1,-1)]).T)\n",
    "    else:\n",
    "        print(np.array([x**(N-i-1) for i in range(0,N,1)]).T)\n",
    "print(\"Increasing order\")\n",
    "Vander_matrx([1,2,3,4,5],5)\n",
    "print(\"----------------------------------------\")\n",
    "print(\"Decreasing order\")\n",
    "Vander_matrx([1,2,3,4,5],5,False)"
   ]
  },
  {
   "cell_type": "markdown",
   "metadata": {},
   "source": [
    "## Problem Statement 2:"
   ]
  },
  {
   "cell_type": "markdown",
   "metadata": {},
   "source": [
    "Given a sequence of n values x1, x2, ..., xn and a window size k>0, the k-th moving average of\n",
    "the given sequence is defined as follows:\n",
    "The moving average sequence has n-k+1 elements as shown below.\n",
    "The moving averages with k=4 of a ten-value sequence (n=10) is shown below\n",
    "\n",
    "i 1 2 3 4 5 6 7 8 9 10\n",
    "===== == == == == == == == == == ==\n",
    "Input 10 20 30 40 50 60 70 80 90 100\n",
    "y1 25 = (10+20+30+40)/4\n",
    "y2 35 = (20+30+40+50)/4\n",
    "y3 45 = (30+40+50+60)/4\n",
    "y4 55 = (40+50+60+70)/4\n",
    "y5 65 = (50+60+70+80)/4\n",
    "y6 75 = (60+70+80+90)/4\n",
    "y7 85 = (70+80+90+100)/4\n",
    "Thus, the moving average sequence has n-k+1=10-4+1=7 values.\n",
    "\n",
    "Question: Write a function to find moving average in an array over a window:\n",
    "Test it over [3, 5, 7, 2, 8, 10, 11, 65, 72, 81, 99, 100, 150] and window of 3."
   ]
  },
  {
   "cell_type": "code",
   "execution_count": 10,
   "metadata": {},
   "outputs": [
    {
     "name": "stdout",
     "output_type": "stream",
     "text": [
      "the moving average sequence: 11\n",
      "\n",
      "\n",
      "[3, 5, 7, 5, 7, 2, 7, 2, 8, 2, 8, 10, 8, 10, 11, 10, 11, 65, 11, 65, 72, 65, 72, 81, 72, 81, 99, 81, 99, 100, 99, 100, 150]\n",
      "\n",
      "\n",
      "Reshaped array-------------------------------------------------------------------------\n",
      "[[  3   5   7]\n",
      " [  5   7   2]\n",
      " [  7   2   8]\n",
      " [  2   8  10]\n",
      " [  8  10  11]\n",
      " [ 10  11  65]\n",
      " [ 11  65  72]\n",
      " [ 65  72  81]\n",
      " [ 72  81  99]\n",
      " [ 81  99 100]\n",
      " [ 99 100 150]]\n",
      "\n",
      "\n",
      "Moving Avarages---------------------------------------------\n",
      "[5.0, 4.67, 5.67, 6.67, 9.67, 28.67, 49.33, 72.67, 84.0, 93.33, 116.33]\n"
     ]
    }
   ],
   "source": [
    "inputarray = np.array([3, 5, 7, 2, 8, 10, 11, 65, 72, 81, 99, 100, 150])\n",
    "widow = 3\n",
    "def movingAvg(inArray,window_size):  \n",
    "   \n",
    "    k =window_size\n",
    "    n = len(inArray)\n",
    "    movingAverageSeq = n-k+1\n",
    "    \n",
    "    print(\"the moving average sequence: {}\".format((n-k+1)))\n",
    "    print(\"\\n\")\n",
    "    #slicing array to get moving sequence array\n",
    "    array = [x for i in range(movingAverageSeq) for x in inArray[i:k+i]]\n",
    "    \n",
    "    print(array)\n",
    "    print(\"\\n\")\n",
    "    print(\"Reshaped array-------------------------------------------------------------------------\")\n",
    "    #reshapinng one dimenstional array to (movingSequencearray/windowSize, windowSize)\n",
    "    reshapedArr = np.array(array).reshape(int(len(array)/k),k)\n",
    "    print(reshapedArr)\n",
    "    print(\"\\n\")\n",
    "    print(\"Moving Avarages---------------------------------------------\")\n",
    "    print([float(\"{0:.2f}\".format(np.array(reshapedArr[x]).mean(),2)) for x in range(movingAverageSeq)])\n",
    "    \n",
    "movingAvg(inputarray,widow)"
   ]
  }
 ],
 "metadata": {
  "kernelspec": {
   "display_name": "Python 3",
   "language": "python",
   "name": "python3"
  },
  "language_info": {
   "codemirror_mode": {
    "name": "ipython",
    "version": 3
   },
   "file_extension": ".py",
   "mimetype": "text/x-python",
   "name": "python",
   "nbconvert_exporter": "python",
   "pygments_lexer": "ipython3",
   "version": "3.7.0"
  }
 },
 "nbformat": 4,
 "nbformat_minor": 2
}
